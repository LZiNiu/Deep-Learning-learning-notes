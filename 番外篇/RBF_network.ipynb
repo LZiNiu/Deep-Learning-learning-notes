{
 "cells": [
  {
   "cell_type": "code",
   "execution_count": 1,
   "metadata": {},
   "outputs": [],
   "source": [
    "import numpy as np\n",
    "from matplotlib import pyplot as plt\n",
    "\n"
   ]
  },
  {
   "cell_type": "code",
   "execution_count": 25,
   "metadata": {},
   "outputs": [
    {
     "name": "stdout",
     "output_type": "stream",
     "text": [
      "[[False False False ... False False False]\n",
      " [False False False ... False False False]\n",
      " [False False False ... False False False]\n",
      " ...\n",
      " [False False False ... False False False]\n",
      " [False False False ... False False False]\n",
      " [False False False ... False False False]]\n"
     ]
    }
   ],
   "source": [
    "class RBFnetwork(object):\n",
    "    def __init__(self, hidden_nums, lr_w, lr_c, lr_sigma):\n",
    "        self.n_hiddens = hidden_nums       #隐含层神经元个数\n",
    "        self.weight = None                  #线性权值\n",
    "        self.c = None                  #神经元中心点\n",
    "        self.sigma = None              #高斯核宽度\n",
    "        self.r = {\"w\":lr_w, \n",
    "                  \"c\":lr_c, \n",
    "                  \"sigma\":lr_sigma}  #参数迭代的学习率\n",
    "        self.errList = []           #误差列表\n",
    "        self.tol = 1.0e-5           #最大容忍误差\n",
    "        \n",
    "        self.n_samples = 0          #训练集样本数量\n",
    "        self.n_features = 0         #训练集特征数量\n",
    "        \n",
    "    #计算径向基距离函数\n",
    "    def guass(self, sigma, X, ci):\n",
    "        return np.exp(-np.linalg.norm((X-ci), axis=1)**2/(2*sigma**2))\n",
    "\n",
    "    #将原数据高斯转化成新数据\n",
    "    def change(self, sigma, X, c):\n",
    "        newX = np.zeros((self.n_samples, self.n_hiddens))\n",
    "        for i in range(self.n_hiddens):\n",
    "            newX[:,i] = self.guass(sigma[i], X, c[i])\n",
    "        return newX\n",
    "\n",
    "    #初始化参数\n",
    "    def init(self):\n",
    "        sigma = np.random.random((self.n_hiddens, 1))               #(h,1)\n",
    "        c = np.random.random((self.n_hiddens, self.n_features))     #(h,n)\n",
    "        w = np.random.random((self.n_hiddens+1, 1))                 #(h+1,1)\n",
    "        return sigma, c, w\n",
    "\n",
    "    #给输出层的输入加一列截距项\n",
    "    def addIntercept(self, X):\n",
    "        return np.hstack((X,np.ones((self.n_samples,1))))\n",
    "\n",
    "    #计算整体误差\n",
    "    def calSSE(self, prey, y):\n",
    "        return 0.5*(np.linalg.norm(prey - y))**2\n",
    "\n",
    "    #求L2范数的平方 (sum_square)\n",
    "    def l2(self, X:np.ndarray, c):\n",
    "        m,n = X.shape\n",
    "        newX = np.zeros((m, len(c)))\n",
    "        for i in range(len(c)):\n",
    "            newX[:,i] = np.linalg.norm((X-c[i]), axis=1)**2\n",
    "        return newX\n",
    "    #训练\n",
    "    def fit(self, X:np.ndarray, y:np.ndarray, epoches)->None:\n",
    "        y =  y.reshape(-1,1)\n",
    "        self.n_samples, self.n_features = X.shape\n",
    "        \n",
    "        self.sigma, self.c, self.weight = self.init()       #初始化参数\n",
    "        \n",
    "        for epoch in range(epoches):\n",
    "            # 正向计算过程\n",
    "            hi_output = self.change(self.sigma, X, self.c)              #隐含层输出(m,h)，即通过径向基函数的转换\n",
    "            yi_input = self.addIntercept(hi_output)         #输出层输入(m,h+1)，因为是线性加权，故将偏置加入\n",
    "            yi_output = np.dot(yi_input, self.weight)                 #输出预测值(m,1)\n",
    "            \n",
    "            error = self.calSSE(yi_output, y)               #计算误差\n",
    "            if error < self.tol:\n",
    "                break\n",
    "            self.errList.append(error)                      #保存误差\n",
    "            # 误差反向传播过程\n",
    "            delta_w = np.dot(yi_input.T, (yi_output-y))      #(h+1,m)x(m,1)\n",
    "            self.weight -= self.r['w'] * delta_w/self.n_samples\n",
    "            \n",
    "            delta_sigma = np.divide(np.multiply(np.dot(np.multiply(hi_output,self.l2(X, self.c)).T,\n",
    "                        (yi_output-y)), self.weight[:-1]), self.sigma**3)  #(h,m)x(m,1)\n",
    "            self.sigma -= self.r['sigma'] * delta_sigma / self.n_samples\n",
    "            \n",
    "            deltac1 = self.weight[:-1] / (self.sigma**2)            #(hidden,1)\n",
    "            \n",
    "            deltac2 = np.zeros((1,self.n_features))               #(1,batch)\n",
    "            for j in range(self.n_samples):\n",
    "                deltac2 += (yi_output-y)[j] * np.dot(hi_output[j], X[j] - self.c)\n",
    "            \n",
    "            delta_c = np.dot(deltac1, deltac2)                #(h,1)x(1,n)\n",
    "            self.c -= self.r['c']*delta_c/self.n_samples\n",
    "        \n",
    "    #预测\n",
    "    def predict(self, X):\n",
    "        hi_output = self.change(self.sigma,X,self.c)    #隐含层输出(batch,hidden)，即通过径向基函数的转换\n",
    "        yi_input = self.addIntercept(hi_output)         #输出层输入(batch, hidden+1)，因为是线性加权，故将偏置加入\n",
    "        yi_output = np.dot(yi_input, self.weight)            #输出预测值(m,1)\n",
    "        return yi_output\n",
    "    \n",
    "X = np.linspace(-5, 5 , 500)[:, np.newaxis]\n",
    "y = np.multiply(1.1*(1-X+2*X**2), np.exp(-0.5*X**2))\n",
    "rbf = RBFnetwork(50, 0.1, 0.2, 0.1)\n",
    "rbf.fit(X, y, 500)"
   ]
  },
  {
   "cell_type": "code",
   "execution_count": 12,
   "metadata": {},
   "outputs": [
    {
     "data": {
      "text/plain": [
       "[<matplotlib.lines.Line2D at 0x14491426a00>]"
      ]
     },
     "execution_count": 12,
     "metadata": {},
     "output_type": "execute_result"
    },
    {
     "data": {
      "image/png": "[encoded data removed]",
      "text/plain": [
       "<Figure size 432x288 with 1 Axes>"
      ]
     },
     "metadata": {
      "needs_background": "light"
     },
     "output_type": "display_data"
    }
   ],
   "source": [
    "\n",
    "plt.plot(X,y,color='r')\n",
    "plt.plot(X,rbf.predict(X),color='b') "
   ]
  }
 ],
 "metadata": {
  "kernelspec": {
   "display_name": "pytorchenv",
   "language": "python",
   "name": "python3"
  },
  "language_info": {
   "codemirror_mode": {
    "name": "ipython",
    "version": 3
   },
   "file_extension": ".py",
   "mimetype": "text/x-python",
   "name": "python",
   "nbconvert_exporter": "python",
   "pygments_lexer": "ipython3",
   "version": "3.8.13"
  },
  "orig_nbformat": 4
 },
 "nbformat": 4,
 "nbformat_minor": 2
}
