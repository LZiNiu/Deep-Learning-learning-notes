{
 "cells": [
  {
   "cell_type": "code",
   "execution_count": 1,
   "metadata": {},
   "outputs": [],
   "source": [
    "from matplotlib import pyplot as plt\n",
    "import torch\n",
    "from torch.utils.data import TensorDataset,DataLoader\n",
    "import numpy as np\n",
    "import pandas as pd\n",
    "import warnings\n",
    "import time\n",
    "import seaborn\n",
    "from torch import nn\n",
    "from typing import Optional,Union,List,Tuple\n",
    "from torchvision import transforms\n",
    "import re"
   ]
  },
  {
   "attachments": {},
   "cell_type": "markdown",
   "metadata": {},
   "source": [
    "#### 文本读取"
   ]
  },
  {
   "cell_type": "code",
   "execution_count": 2,
   "metadata": {},
   "outputs": [
    {
     "data": {
      "text/plain": [
       "('twinkled, and his usually pale face was flushed and animated. The\\n',\n",
       " 'The Time Machine, by H. G. Wells [1898]\\n\\n\\n\\n\\nI\\n\\n\\nThe Time Traveller (for so it will be convenient to ')"
      ]
     },
     "execution_count": 2,
     "metadata": {},
     "output_type": "execute_result"
    }
   ],
   "source": [
    "# 读取语料\n",
    "# 注意不要写到同一次读取操作中,readlines或者read中任意一个都会占用文件流导致另外一个失效\n",
    "with open(\"timemachine.txt\", 'r') as file:\n",
    "    text_list = file.readlines()\n",
    "with open(\"timemachine.txt\", 'r') as file:\n",
    "    text_str = file.read()\n",
    "\n",
    "\n",
    "text_list[10],text_str[:100]"
   ]
  },
  {
   "attachments": {},
   "cell_type": "markdown",
   "metadata": {},
   "source": [
    "#### 文本预处理"
   ]
  },
  {
   "cell_type": "code",
   "execution_count": 3,
   "metadata": {},
   "outputs": [
    {
     "data": {
      "text/plain": [
       "('twinkled and his usually pale face was flushed and animated the',\n",
       " 'the time machine by h g wells i the time traveller for so it will be convenient to speak of him was ')"
      ]
     },
     "execution_count": 3,
     "metadata": {},
     "output_type": "execute_result"
    }
   ],
   "source": [
    "# 利用正则表达式处理文本,将字母以外的标点符号替换为空格并都转换为小写\n",
    "text_list = [re.sub('[^A-Za-z]+',' ',line).strip().lower() for line in text_list]\n",
    "text_str = re.sub('[^A-Za-z]+',' ',text_str).strip().lower()\n",
    "text_list[10], text_str[:100]"
   ]
  },
  {
   "attachments": {},
   "cell_type": "markdown",
   "metadata": {},
   "source": [
    "#### 构建词元"
   ]
  },
  {
   "cell_type": "code",
   "execution_count": 4,
   "metadata": {},
   "outputs": [
    {
     "data": {
      "text/plain": [
       "True"
      ]
     },
     "execution_count": 4,
     "metadata": {},
     "output_type": "execute_result"
    }
   ],
   "source": [
    "def tokenize(text:Union[List[str],str], token='word'):\n",
    "    # 以单词作为词元\n",
    "    if token=='word':\n",
    "        if type(text) is list:\n",
    "            return [line.split() for line in text]\n",
    "        else:\n",
    "            return text.split()\n",
    "    # 以字符作为词元\n",
    "    elif token=='char':\n",
    "        if type(text) is list:\n",
    "            return [list(line) for line in text]\n",
    "        else:\n",
    "            return list(text)\n",
    "    else:\n",
    "        raise TypeError(\"未知词元类型\")\n",
    "\n",
    "tokens_list_bychar = tokenize(text_list,'char')\n",
    "tokens_str_bychar = tokenize(text_str,'char')\n",
    "tokens_list_bychar[0]==tokens_str_bychar[:29]"
   ]
  },
  {
   "cell_type": "code",
   "execution_count": 5,
   "metadata": {},
   "outputs": [
    {
     "data": {
      "text/plain": [
       "True"
      ]
     },
     "execution_count": 5,
     "metadata": {},
     "output_type": "execute_result"
    }
   ],
   "source": [
    "tokens_list_byword = tokenize(text_list)\n",
    "tokens_str_byword = tokenize(text_str)\n",
    "tokens_list_byword[0]==tokens_str_byword[:7]"
   ]
  },
  {
   "attachments": {},
   "cell_type": "markdown",
   "metadata": {},
   "source": [
    "#### 构建词汇表,词元和索引之间的映射关系"
   ]
  },
  {
   "cell_type": "code",
   "execution_count": 6,
   "metadata": {},
   "outputs": [
    {
     "name": "stdout",
     "output_type": "stream",
     "text": [
      "[(' ', 29927), ('e', 17838), ('t', 13515), ('a', 11704), ('i', 10138), ('n', 9917), ('o', 9758), ('s', 8486), ('h', 8257), ('r', 7674), ('d', 6337), ('l', 6146), ('m', 4043), ('u', 3805), ('c', 3424), ('f', 3354), ('w', 3225), ('g', 3075), ('y', 2679), ('p', 2427), ('b', 1897), ('v', 1295), ('k', 1087), ('x', 236), ('z', 144), ('j', 97), ('q', 95)]\n",
      "[' ', 'e', 't', 'a']\n",
      "[' ', 'a']\n"
     ]
    }
   ],
   "source": [
    "from collections import Counter\n",
    "class Vocab:\n",
    "    def __init__(self, tokens:List, min_freq=0, reserved_tokens:List=[]) -> None:\n",
    "        # 以字符作为词元时,tokens的形状应该为2维的list\n",
    "        # 将2维列表拉直\n",
    "        if tokens and isinstance(tokens[0],list):\n",
    "            tokens = [char for line in tokens for char in line]\n",
    "        # 计算每个char出现的频率\n",
    "        counter = Counter(tokens)\n",
    "        # 降序排列\n",
    "        self.token_freqs = sorted(counter.items(),key=lambda x:x[1], reverse=True)\n",
    "        # 制作词元索引\n",
    "        # 语料库中不存在或已删除的任何词元都将映射到一个特定的未知词元类  '<unk>(unknown token)'\n",
    "        self.index_to_token = reserved_tokens + ['<unk>']\n",
    "        # 词元token类映射到index\n",
    "        self.token_to_index = {token: idx for idx,token in enumerate(self.index_to_token)}\n",
    "\n",
    "        for token, freq in self.token_freqs:\n",
    "            if freq < min_freq:\n",
    "                break\n",
    "            if token not in self.token_to_index:\n",
    "                # 将词元类添加到词元表中\n",
    "                self.index_to_token.append(token)\n",
    "                # token类映射到index的dict对应的token的index设置为 len - 1(即现索引的后一位)\n",
    "                self.token_to_index[token] = len(self.index_to_token) - 1\n",
    "    \n",
    "    def __len__(self):\n",
    "        return len(self.index_to_token)\n",
    "    \n",
    "    @property\n",
    "    def unk(self):\n",
    "        return self.token_to_index['<unk>']\n",
    "\n",
    "    def __getitem__(self, tokens):\n",
    "        # 重载[]运算符\n",
    "        if not isinstance(tokens, (list, tuple)):\n",
    "            return self.token_to_index.get(tokens, self.unk)\n",
    "        return [self.__getitem__(token) for token in tokens]\n",
    "    \n",
    "    def to_tokens(self, indices):\n",
    "        if not isinstance(indices,(list,tuple)) or isinstance(indices, slice):\n",
    "            return self.index_to_token[indices]\n",
    "        return [self.index_to_token[indice] for indice in indices]\n",
    "\n",
    "# 构建训练和测试数据格式\n",
    "def build(text, vocab=None, token='word', reserved_tokens=[]):\n",
    "    tokens = tokenize(text, token)\n",
    "    if vocab is None:\n",
    "        vocab = Vocab(tokens,reserved_tokens=reserved_tokens)\n",
    "    # 这里可以直接用tokens索引,但是当tokens是二维的时候需要额外拉直,故采用for创建\n",
    "    corpus = [vocab[tk] for tk in tokens]\n",
    "    return corpus, vocab\n",
    "\n",
    "    \n",
    "\n",
    "        \n",
    "\n",
    "# 测试词元为char\n",
    "temp = Vocab(tokens_list_bychar)\n",
    "print(temp.token_freqs)\n",
    "# temp = Vocab(tokens_str_bychar,reserved_tokens=['<pad>','<bos>'])\n",
    "# print(temp['<unk>','<pad>'])# getitem\n",
    "print(temp.to_tokens(slice(1,5)))\n",
    "print(temp.to_tokens([1,4]))\n"
   ]
  },
  {
   "cell_type": "code",
   "execution_count": 7,
   "metadata": {},
   "outputs": [
    {
     "name": "stdout",
     "output_type": "stream",
     "text": [
      "['the', 'i', 'and', 'of'] 4580\n"
     ]
    }
   ],
   "source": [
    "# 测试word作为词元\n",
    "temp = Vocab(tokens_list_byword)\n",
    "print(temp.to_tokens(slice(1,5)), len(temp))"
   ]
  },
  {
   "cell_type": "code",
   "execution_count": 8,
   "metadata": {},
   "outputs": [
    {
     "data": {
      "text/plain": [
       "32775"
      ]
     },
     "execution_count": 8,
     "metadata": {},
     "output_type": "execute_result"
    }
   ],
   "source": [
    "# 测试build函数功能\n",
    "corpus,vocab = build(text_str)\n",
    "len(corpus)"
   ]
  },
  {
   "attachments": {},
   "cell_type": "markdown",
   "metadata": {},
   "source": [
    "#### Build RNN From Scratch"
   ]
  },
  {
   "attachments": {},
   "cell_type": "markdown",
   "metadata": {},
   "source": [
    "##### 数据的序列划分"
   ]
  },
  {
   "cell_type": "code",
   "execution_count": 9,
   "metadata": {},
   "outputs": [
    {
     "name": "stdout",
     "output_type": "stream",
     "text": [
      "torch.Size([6555]) torch.Size([6555])\n"
     ]
    }
   ],
   "source": [
    "# 编写测试dataloader\n",
    "def get_dataloader(data:Union[torch.Tensor,List[torch.Tensor]], train:bool=True, n_train:Union[int,float]=0.8, batch_size:int=16):\n",
    "    assert (type(data[0]) is torch.Tensor), \"The data contains X,y which must be a Tensor\"\n",
    "    n_total = data[0].shape[0]\n",
    "    if type(n_train) is float:\n",
    "        n_train = int(n_total * n_train)\n",
    "    \n",
    "    indices = slice(0,n_train) if train else slice(n_train, None)\n",
    "\n",
    "    tensors = [a[indices] for a in data]\n",
    "    data = TensorDataset(*tensors)\n",
    "    if train:\n",
    "            return DataLoader(data, batch_size, shuffle=train)\n",
    "    else:\n",
    "        return DataLoader(data, n_total - n_train)\n",
    "\n",
    "data = [torch.tensor(corpus[:-1]), torch.tensor(corpus[1:])]\n",
    "\n",
    "for X,y in get_dataloader(data,train=False):\n",
    "    print(X.shape, y.shape)\n",
    "    break"
   ]
  },
  {
   "cell_type": "code",
   "execution_count": 10,
   "metadata": {},
   "outputs": [
    {
     "name": "stdout",
     "output_type": "stream",
     "text": [
      "torch.Size([32770, 4])\n",
      "tensor([[  21,   19,    1,   19],\n",
      "        [  25, 2320,    1,   19]]) \n",
      " tensor([[  19,    1,   19,   50],\n",
      "        [2320,    1,   19,   71]])\n"
     ]
    }
   ],
   "source": [
    "# 准备训练数据集\n",
    "def generate_sequences(corpus,n_step)->Tuple[torch.Tensor,torch.Tensor]:\n",
    "    # 生成len(corpus)//n_step个长度为n_step的序列集合\n",
    "    sequences = torch.tensor([corpus[i:i+n_step] for i in range(len(corpus)-n_step)],dtype=torch.int64)\n",
    "    return sequences[:,:-1], sequences[:,1:]\n",
    "\n",
    "train_X,train_y = generate_sequences(corpus,5)\n",
    "print(train_X.shape)\n",
    "for X,y in get_dataloader([train_X,train_y],train=True,batch_size=2):\n",
    "    print(X,\"\\n\", y)\n",
    "    break"
   ]
  },
  {
   "attachments": {},
   "cell_type": "markdown",
   "metadata": {},
   "source": [
    "##### 构建RNN网络"
   ]
  },
  {
   "attachments": {
    "image-2.png": {
     "image/png": "[encoded data removed]"
    },
    "image-3.png": {
     "image/png": "[encoded data removed]"
    },
    "image.png": {
     "image/png": "[encoded data removed]"
    }
   },
   "cell_type": "markdown",
   "metadata": {},
   "source": [
    "![image.png](attachment:image.png)<br>\n",
    "![image.png](attachment:image-2.png)\n",
    "![image.png](attachment:image-3.png)"
   ]
  },
  {
   "cell_type": "code",
   "execution_count": 66,
   "metadata": {},
   "outputs": [
    {
     "data": {
      "text/plain": [
       "(True, torch.Size([2, 16]))"
      ]
     },
     "execution_count": 66,
     "metadata": {},
     "output_type": "execute_result"
    }
   ],
   "source": [
    "# 明确一下任务和理论\n",
    "# 序列长度其实对应着RNN网络的隐藏层节点个数\n",
    "# 损失的评价指标:困惑度\n",
    "# 困惑度的求得需要one-hot编码\n",
    "# 将二维原数据(batch_size, index)的对应vocabulary中的index进行独热编码后即可使其增加到三维-----------↓\n",
    "# 于是我们需要的输出维度:(batch_size, len_sequence, vocab_onehot_vector)\\(批量大小，序列长度, 词表的onehot vector)\n",
    "# 为了更方便的遍历数据,通常转换为维度排列->(len_sequence, batch_size, vocab_onehot_vector)\\(序列长度, 批量大小, 词表的onehot vector)\n",
    "# 输入input的各个维度dimension:(len_sequence, batch_size, vocab_onehot_vector)\n",
    "#                                                           ↓→->-> n_inputs\n",
    "\n",
    "# 输入input传递到隐层时进行 X @ W_xh + state @ W_hh + b 运算,其中X @ W_xh对应维度(len_sequence, batch_size, n_hiddens)\n",
    "\n",
    "# len(vocab) = n_inputs = n_outputs\n",
    "# n_steps = len_sequences\n",
    "#\n",
    "# 隐藏层hidden_layer: \n",
    "# 1、store the state of last moment, dimension analysis:(n_hiddens, n_hiddens) ->输出形状:(len_sequence, batch_size, n_hiddens)\n",
    "# 2、receive the input of now, dimension is same as last moment\n",
    "\n",
    "# 输出output:形状需要与input一致\n",
    "\n",
    "class MyRNN(nn.Module):\n",
    "    def __init__(self, n_inputs, n_hiddens) -> None:\n",
    "        super(MyRNN, self).__init__()\n",
    "        # 计算隐层的权重和偏置\n",
    "        self.n_inputs = n_inputs\n",
    "        n_outputs = n_inputs\n",
    "        self.n_hiddens = n_hiddens\n",
    "        # 隐层共用权重\n",
    "        self.w_xh = torch.rand(n_inputs, n_hiddens)\n",
    "        self.w_hh = torch.rand(n_hiddens, n_hiddens)\n",
    "        self.b_h = torch.zeros(n_hiddens)\n",
    "        # 计算output的权重和偏置\n",
    "        self.w_h = torch.rand(n_hiddens, n_outputs)\n",
    "        self.b = torch.zeros(n_outputs)\n",
    "    \n",
    "    def forward_hidden(self,X:torch.Tensor, state=None)->List[torch.Tensor]:\n",
    "        # 隐层的前向传播\n",
    "        assert type(X) is torch.Tensor, \"inputs X must be tensor type\"\n",
    "        \n",
    "        H = []\n",
    "        for x in X:\n",
    "            state = torch.tanh(x @ self.w_xh  + state @ self.w_hh + self.b_h)\n",
    "            H.append(state)\n",
    "        return H\n",
    "\n",
    "    def forward(self, X:torch.Tensor, state=None)->Tuple[List[torch.Tensor],torch.Tensor]:\n",
    "        \"\"\"\n",
    "\n",
    "        Args:\n",
    "            X (_type_): 当前时刻输入,维度排列需要为(序列长度, batch_size, len_vocab)\n",
    "            state (_type_): 初始时刻的H1隐层state\n",
    "\n",
    "        Returns:\n",
    "            torch.Tensor\n",
    "        \"\"\" \n",
    "        assert type(X) is torch.Tensor, \"inputs X must be tensor type\"\n",
    "        # X若是二维的那么判定未做独热处理需要进行独热处理\n",
    "        train_X = self.one_hot(X) if X.dim()==2 else X\n",
    "\n",
    "        if state is None:\n",
    "            state = torch.zeros(train_X.shape[1], self.n_hiddens)\n",
    "        \n",
    "        train_X = train_X.requires_grad_(True)\n",
    "        output = [x @ self.w_h+self.b\n",
    "                    for x in self.forward_hidden(train_X, state)]\n",
    "        \n",
    "        return torch.stack(output)\n",
    "    \n",
    "    def one_hot(self, X:torch.Tensor)->torch.Tensor:\n",
    "        # 将输入变成one-hot编码形式\n",
    "        # 输入X的维度排列:(batch_size, len_sequence)\n",
    "        # 目标output X要求的维度排列为:(len_sequence, batch_size, len_vacob)\n",
    "        # one-hot encoding: 2*1[0,2]->one-hot vector whose len=5 -> 2*5[[1,0,0,0,0],[0,0,1,0,0]]\n",
    "        # 3*2 [[0,2],[0,2],[0,2]] -> 3*2*5 [[[1,0,0,0,0],[0,0,1,0,0]],[...],[...]]\n",
    "        # 上述例子转置2*3 [[0,0,0][2,2,2]] -> 2*3\n",
    "        # 需要操作:将X重排至(len_sequence, batch_size)\n",
    "        X = X.type(dtype=torch.int64)\n",
    "        return nn.functional.one_hot(X.T, self.n_inputs).type(torch.float32)\n",
    "    \n",
    "    def configure_optimizer(self,lr):\n",
    "        return torch.optim.Adam([self.w_xh,self.w_hh, self.b_h, self.w_h, self.b], lr)\n",
    "    \n",
    "    def loss(self, y:torch.Tensor, y_hat:torch.Tensor)->torch.Tensor:\n",
    "        l = nn.functional.cross_entropy(y_hat, y)\n",
    "        return torch.exp(l)\n",
    "\n",
    "    def fit(self, Data:List[torch.Tensor], epochs=5, batch_size=32, lr=0.001):\n",
    "        optimizer = self.configure_optimizer(lr)\n",
    "        for epoch in range(epochs):\n",
    "            print(f\"开始第{epoch+1}轮训练\")\n",
    "            loss_val = []\n",
    "            for X,y in get_dataloader(Data,batch_size=batch_size):\n",
    "                y = self.one_hot(y).requires_grad_(True)\n",
    "                # print(self.one_hot(X)[0][0],y[0][0])\n",
    "                # return\n",
    "                optimizer.zero_grad()\n",
    "                y_hat = self.forward(X)\n",
    "                l = self.loss(y, y_hat)\n",
    "                loss_val.append(l)\n",
    "                # l.requires_grad_(True)\n",
    "                l.backward()\n",
    "                optimizer.step()\n",
    "            with torch.no_grad():\n",
    "                print(\"loss:\", loss_val[-1])\n",
    "                \n",
    "\n",
    "\n",
    "batch_size, n_inputs, n_hiddens, n_steps = 2, 16, 32, 100\n",
    "rnn = MyRNN(n_inputs, n_hiddens)\n",
    "\n",
    "# test forward\n",
    "temp = torch.ones((n_steps, batch_size, n_inputs))\n",
    "outputs = rnn(temp)\n",
    "len(outputs)==n_steps,outputs[0].shape"
   ]
  },
  {
   "cell_type": "code",
   "execution_count": 12,
   "metadata": {},
   "outputs": [
    {
     "data": {
      "text/plain": [
       "(torch.Size([100, 2, 16]), torch.float32)"
      ]
     },
     "execution_count": 12,
     "metadata": {},
     "output_type": "execute_result"
    }
   ],
   "source": [
    "# test one-hot\n",
    "# one-hot函数 官网文档中可以查到要求传入的tensor类型为long即int64\n",
    "temp = torch.ones((batch_size, n_steps),dtype=torch.int64)# 2 * 100\n",
    "rnn.one_hot(temp).shape,rnn.one_hot(temp).dtype# 100 * 2 * 16"
   ]
  },
  {
   "cell_type": "code",
   "execution_count": 64,
   "metadata": {},
   "outputs": [
    {
     "name": "stdout",
     "output_type": "stream",
     "text": [
      "[0, 1, 2, 3, 4, 5, 6, 7, 8, 9, 10, 11, 12, 13, 14, 15, 0, 1, 2, 3, 4, 5, 6, 7, 8, 9, 10, 11, 12, 13, 14, 15, 0, 1, 2, 3, 4, 5, 6, 7, 8, 9, 10, 11, 12, 13, 14, 15, 0, 1, 2, 3, 4, 5, 6, 7, 8, 9, 10, 11, 12, 13, 14, 15, 0, 1, 2, 3, 4, 5, 6, 7, 8, 9, 10, 11, 12, 13, 14, 15, 0, 1, 2, 3, 4, 5, 6, 7, 8, 9, 10, 11, 12, 13, 14, 15, 0, 1, 2, 3, 4, 5, 6, 7, 8, 9, 10, 11, 12, 13, 14, 15, 0, 1, 2, 3, 4, 5, 6, 7, 8, 9, 10, 11, 12, 13, 14, 15, 0, 1, 2, 3, 4, 5, 6, 7, 8, 9, 10, 11, 12, 13, 14, 15, 0, 1, 2, 3, 4, 5, 6, 7, 8, 9, 10, 11, 12, 13, 14, 15, 0, 1, 2, 3, 4, 5, 6, 7, 8, 9, 10, 11, 12, 13, 14, 15, 0, 1, 2, 3, 4, 5, 6, 7, 8, 9, 10, 11, 12, 13, 14, 15, 0, 1, 2, 3, 4, 5, 6, 7]\n",
      "开始第1轮训练\n",
      "tensor([0., 0., 0., 0., 0., 0., 1., 0., 0., 0., 0., 0., 0., 0., 0., 0.]) tensor([0., 0., 0., 0., 0., 0., 0., 1., 0., 0., 0., 0., 0., 0., 0., 0.],\n",
      "       grad_fn=<SelectBackward0>)\n"
     ]
    }
   ],
   "source": [
    "# del X,y,train_X,train_y\n",
    "temp = list(np.arange(batch_size*n_steps)%16)\n",
    "print(temp)\n",
    "rnn.fit(generate_sequences(temp,n_steps),batch_size=1)"
   ]
  },
  {
   "cell_type": "code",
   "execution_count": null,
   "metadata": {},
   "outputs": [],
   "source": [
    "model = MyRNN(n_inputs=len(vocab), n_hiddens=100)\n",
    "# 有点问题,loss一直稳定不咋更新,无论学习率,batch_size为何,不只是否是调用自动微分部分写的有问题\n",
    "model.fit(generate_sequences(corpus[:3000],100),lr=0.5,batch_size=128)"
   ]
  },
  {
   "attachments": {},
   "cell_type": "markdown",
   "metadata": {},
   "source": [
    "#### 调用高级API实现"
   ]
  },
  {
   "cell_type": "code",
   "execution_count": 71,
   "metadata": {},
   "outputs": [
    {
     "data": {
      "text/plain": [
       "torch.Size([100, 2, 16])"
      ]
     },
     "execution_count": 71,
     "metadata": {},
     "output_type": "execute_result"
    }
   ],
   "source": [
    "class RNNTorch():\n",
    "    def __init__(self, n_inputs, n_hiddens) -> None:\n",
    "        n_outputs = n_inputs\n",
    "        self.rnn = nn.RNN(n_inputs,n_hiddens)\n",
    "        self.fc = nn.Linear(n_hiddens, n_outputs)\n",
    "    \n",
    "    def forward(self, X:torch.Tensor, H=None):\n",
    "        X = nn.functional.one_hot(X.T.long(), self.rnn.input_size)\n",
    "        X = X.float()\n",
    "        h,_ = self.rnn(X)\n",
    "        return self.fc(h)\n",
    "\n",
    "# test\n",
    "model_rnn= RNNTorch(n_inputs, n_hiddens)\n",
    "\n",
    "model_rnn.forward(torch.ones(batch_size, n_steps)).shape\n"
   ]
  }
 ],
 "metadata": {
  "kernelspec": {
   "display_name": "pytorchenv",
   "language": "python",
   "name": "python3"
  },
  "language_info": {
   "codemirror_mode": {
    "name": "ipython",
    "version": 3
   },
   "file_extension": ".py",
   "mimetype": "text/x-python",
   "name": "python",
   "nbconvert_exporter": "python",
   "pygments_lexer": "ipython3",
   "version": "3.8.13"
  },
  "orig_nbformat": 4,
  "vscode": {
   "interpreter": {
    "hash": "ebd108c06cc1fee3274f6da06eb87bbf2b402824496318ac7157a648df7690c5"
   }
  }
 },
 "nbformat": 4,
 "nbformat_minor": 2
}
