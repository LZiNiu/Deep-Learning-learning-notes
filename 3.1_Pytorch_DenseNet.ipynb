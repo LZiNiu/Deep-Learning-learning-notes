{
 "cells": [
  {
   "cell_type": "code",
   "execution_count": 2,
   "metadata": {},
   "outputs": [],
   "source": [
    "from matplotlib import pyplot as plt\n",
    "import torch\n",
    "from torch.utils.data import TensorDataset,DataLoader\n",
    "import numpy as np\n",
    "import pandas as pd\n",
    "import warnings\n",
    "import time\n",
    "import seaborn\n",
    "from torch import nn\n",
    "from typing import Optional,Union\n",
    "from torchvision import transforms"
   ]
  },
  {
   "attachments": {
    "image-2.png": {
     "image/png": "[encoded data removed]"
    },
    "image.png": {
     "image/png": "[encoded data removed]"
    }
   },
   "cell_type": "markdown",
   "metadata": {},
   "source": [
    "![image.png](attachment:image-2.png)<br>\n",
    "![image.png](attachment:image.png)"
   ]
  },
  {
   "cell_type": "code",
   "execution_count": 5,
   "metadata": {},
   "outputs": [
    {
     "data": {
      "text/plain": [
       "torch.Size([2, 131, 96, 96])"
      ]
     },
     "execution_count": 5,
     "metadata": {},
     "output_type": "execute_result"
    }
   ],
   "source": [
    "class DenseBlock(nn.Module):\n",
    "    def __init__(self, out_chinnels:int, n_convs:int=1) -> None:\n",
    "        super(DenseBlock, self).__init__()\n",
    "        layers=[]\n",
    "        # 当逼近的层数为1时与普通ResNet等效,每一层layer等价与上图中的fn(x)\n",
    "        for i in range(n_convs):\n",
    "            layers.append(nn.Sequential(\n",
    "            nn.LazyBatchNorm2d(),nn.ReLU(),\n",
    "            nn.LazyConv2d(out_chinnels, kernel_size=3, padding=1)\n",
    "        ))\n",
    "        self.net = nn.Sequential(*layers)\n",
    "    \n",
    "    def forward(self, X:torch.Tensor)->torch.Tensor:\n",
    "        for blk in self.net:\n",
    "            Y = blk(X) #fn(x)----------------------->----->fn+1(fn,x)\n",
    "            #                               ↓       ↑\n",
    "            X = torch.cat([X, Y], dim=1)# (fn,x)-----\n",
    "        return X\n",
    "\n",
    "model = DenseBlock(64,2)\n",
    "model(torch.rand(2,3,96,96)).shape# (2,(3->64)*2+3,96,96)"
   ]
  },
  {
   "cell_type": "code",
   "execution_count": 6,
   "metadata": {},
   "outputs": [],
   "source": [
    "# 过渡层(用来控制模型复杂度),此处主要做的处理有:控制输出通道个数,让模型的height,width减半\n",
    "def transition_block(num_channels):\n",
    "    return nn.Sequential(\n",
    "        nn.LazyBatchNorm2d(), nn.ReLU(),\n",
    "        nn.LazyConv2d(num_channels, kernel_size=1),\n",
    "        nn.AvgPool2d(kernel_size=2, stride=2))"
   ]
  },
  {
   "cell_type": "code",
   "execution_count": 12,
   "metadata": {},
   "outputs": [
    {
     "name": "stderr",
     "output_type": "stream",
     "text": [
      "e:\\ProgramData\\Anaconda3\\envs\\pytorchenv\\lib\\site-packages\\torch\\nn\\modules\\lazy.py:178: UserWarning: Lazy modules are a new feature under heavy development so changes to the API or functionality can happen at any moment.\n",
      "  warnings.warn('Lazy modules are a new feature under heavy development '\n"
     ]
    },
    {
     "data": {
      "text/plain": [
       "torch.Size([4, 10])"
      ]
     },
     "execution_count": 12,
     "metadata": {},
     "output_type": "execute_result"
    }
   ],
   "source": [
    "class DenseNet():\n",
    "    def __init__(self,arch:Union[list,tuple], channel_growth_rate:int, out_channels:int, n_classes:int):\n",
    "        self.net = nn.Sequential(\n",
    "            nn.Sequential(\n",
    "                nn.LazyConv2d(out_channels, kernel_size=7, stride=2, padding=3),\n",
    "                nn.LazyBatchNorm2d(), nn.ReLU(),\n",
    "                nn.MaxPool2d(kernel_size=3, stride=2, padding=1)\n",
    "            )\n",
    "        )\n",
    "        for i,n_convs in enumerate(arch):\n",
    "            self.net.add_module(f\"denseblk{i+1}\",DenseBlock(channel_growth_rate,n_convs))\n",
    "            # 上一个DenseBlock的输出维度\n",
    "            out_channels += n_convs * channel_growth_rate\n",
    "            # 每一个DenseBlock后添加一个过渡层\n",
    "            if i != len(arch)-1:\n",
    "                out_channels = out_channels//2\n",
    "                self.net.add_module(f\"transitionblk{i+1}\",transition_block(out_channels))\n",
    "        self.net.add_module('last', nn.Sequential(\n",
    "        nn.LazyBatchNorm2d(), nn.ReLU(),\n",
    "        nn.AdaptiveAvgPool2d((1, 1)), nn.Flatten(),\n",
    "        nn.LazyLinear(n_classes)))\n",
    "    def forward(self, X):\n",
    "        return self.net(X)\n",
    "\n",
    "model = DenseNet(arch=(4,4,4,4),out_channels=64,channel_growth_rate=32,n_classes=10)\n",
    "model.net(torch.rand(4,5,64,64)).shape #(4,10) "
   ]
  }
 ],
 "metadata": {
  "kernelspec": {
   "display_name": "pytorchenv",
   "language": "python",
   "name": "python3"
  },
  "language_info": {
   "codemirror_mode": {
    "name": "ipython",
    "version": 3
   },
   "file_extension": ".py",
   "mimetype": "text/x-python",
   "name": "python",
   "nbconvert_exporter": "python",
   "pygments_lexer": "ipython3",
   "version": "3.8.13"
  },
  "orig_nbformat": 4,
  "vscode": {
   "interpreter": {
    "hash": "ebd108c06cc1fee3274f6da06eb87bbf2b402824496318ac7157a648df7690c5"
   }
  }
 },
 "nbformat": 4,
 "nbformat_minor": 2
}
